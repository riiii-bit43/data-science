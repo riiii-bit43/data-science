{
  "nbformat": 4,
  "nbformat_minor": 0,
  "metadata": {
    "colab": {
      "provenance": [],
      "authorship_tag": "ABX9TyOA2sl2kBzsD67kBTqmimF6",
      "include_colab_link": true
    },
    "kernelspec": {
      "name": "python3",
      "display_name": "Python 3"
    },
    "language_info": {
      "name": "python"
    }
  },
  "cells": [
    {
      "cell_type": "markdown",
      "metadata": {
        "id": "view-in-github",
        "colab_type": "text"
      },
      "source": [
        "<a href=\"https://colab.research.google.com/github/riiii-bit43/data-science/blob/main/EduTask1.ipynb\" target=\"_parent\"><img src=\"https://colab.research.google.com/assets/colab-badge.svg\" alt=\"Open In Colab\"/></a>"
      ]
    },
    {
      "cell_type": "code",
      "execution_count": null,
      "metadata": {
        "colab": {
          "base_uri": "https://localhost:8080/",
          "height": 74
        },
        "id": "XlxXQLSqKsJL",
        "outputId": "b9ad3b6c-4545-4525-ae46-52f15b163e90"
      },
      "outputs": [
        {
          "output_type": "display_data",
          "data": {
            "text/plain": [
              "<IPython.core.display.HTML object>"
            ],
            "text/html": [
              "\n",
              "     <input type=\"file\" id=\"files-e5ec7e16-d8bc-48c9-91cc-4a7dfa29a197\" name=\"files[]\" multiple disabled\n",
              "        style=\"border:none\" />\n",
              "     <output id=\"result-e5ec7e16-d8bc-48c9-91cc-4a7dfa29a197\">\n",
              "      Upload widget is only available when the cell has been executed in the\n",
              "      current browser session. Please rerun this cell to enable.\n",
              "      </output>\n",
              "      <script>// Copyright 2017 Google LLC\n",
              "//\n",
              "// Licensed under the Apache License, Version 2.0 (the \"License\");\n",
              "// you may not use this file except in compliance with the License.\n",
              "// You may obtain a copy of the License at\n",
              "//\n",
              "//      http://www.apache.org/licenses/LICENSE-2.0\n",
              "//\n",
              "// Unless required by applicable law or agreed to in writing, software\n",
              "// distributed under the License is distributed on an \"AS IS\" BASIS,\n",
              "// WITHOUT WARRANTIES OR CONDITIONS OF ANY KIND, either express or implied.\n",
              "// See the License for the specific language governing permissions and\n",
              "// limitations under the License.\n",
              "\n",
              "/**\n",
              " * @fileoverview Helpers for google.colab Python module.\n",
              " */\n",
              "(function(scope) {\n",
              "function span(text, styleAttributes = {}) {\n",
              "  const element = document.createElement('span');\n",
              "  element.textContent = text;\n",
              "  for (const key of Object.keys(styleAttributes)) {\n",
              "    element.style[key] = styleAttributes[key];\n",
              "  }\n",
              "  return element;\n",
              "}\n",
              "\n",
              "// Max number of bytes which will be uploaded at a time.\n",
              "const MAX_PAYLOAD_SIZE = 100 * 1024;\n",
              "\n",
              "function _uploadFiles(inputId, outputId) {\n",
              "  const steps = uploadFilesStep(inputId, outputId);\n",
              "  const outputElement = document.getElementById(outputId);\n",
              "  // Cache steps on the outputElement to make it available for the next call\n",
              "  // to uploadFilesContinue from Python.\n",
              "  outputElement.steps = steps;\n",
              "\n",
              "  return _uploadFilesContinue(outputId);\n",
              "}\n",
              "\n",
              "// This is roughly an async generator (not supported in the browser yet),\n",
              "// where there are multiple asynchronous steps and the Python side is going\n",
              "// to poll for completion of each step.\n",
              "// This uses a Promise to block the python side on completion of each step,\n",
              "// then passes the result of the previous step as the input to the next step.\n",
              "function _uploadFilesContinue(outputId) {\n",
              "  const outputElement = document.getElementById(outputId);\n",
              "  const steps = outputElement.steps;\n",
              "\n",
              "  const next = steps.next(outputElement.lastPromiseValue);\n",
              "  return Promise.resolve(next.value.promise).then((value) => {\n",
              "    // Cache the last promise value to make it available to the next\n",
              "    // step of the generator.\n",
              "    outputElement.lastPromiseValue = value;\n",
              "    return next.value.response;\n",
              "  });\n",
              "}\n",
              "\n",
              "/**\n",
              " * Generator function which is called between each async step of the upload\n",
              " * process.\n",
              " * @param {string} inputId Element ID of the input file picker element.\n",
              " * @param {string} outputId Element ID of the output display.\n",
              " * @return {!Iterable<!Object>} Iterable of next steps.\n",
              " */\n",
              "function* uploadFilesStep(inputId, outputId) {\n",
              "  const inputElement = document.getElementById(inputId);\n",
              "  inputElement.disabled = false;\n",
              "\n",
              "  const outputElement = document.getElementById(outputId);\n",
              "  outputElement.innerHTML = '';\n",
              "\n",
              "  const pickedPromise = new Promise((resolve) => {\n",
              "    inputElement.addEventListener('change', (e) => {\n",
              "      resolve(e.target.files);\n",
              "    });\n",
              "  });\n",
              "\n",
              "  const cancel = document.createElement('button');\n",
              "  inputElement.parentElement.appendChild(cancel);\n",
              "  cancel.textContent = 'Cancel upload';\n",
              "  const cancelPromise = new Promise((resolve) => {\n",
              "    cancel.onclick = () => {\n",
              "      resolve(null);\n",
              "    };\n",
              "  });\n",
              "\n",
              "  // Wait for the user to pick the files.\n",
              "  const files = yield {\n",
              "    promise: Promise.race([pickedPromise, cancelPromise]),\n",
              "    response: {\n",
              "      action: 'starting',\n",
              "    }\n",
              "  };\n",
              "\n",
              "  cancel.remove();\n",
              "\n",
              "  // Disable the input element since further picks are not allowed.\n",
              "  inputElement.disabled = true;\n",
              "\n",
              "  if (!files) {\n",
              "    return {\n",
              "      response: {\n",
              "        action: 'complete',\n",
              "      }\n",
              "    };\n",
              "  }\n",
              "\n",
              "  for (const file of files) {\n",
              "    const li = document.createElement('li');\n",
              "    li.append(span(file.name, {fontWeight: 'bold'}));\n",
              "    li.append(span(\n",
              "        `(${file.type || 'n/a'}) - ${file.size} bytes, ` +\n",
              "        `last modified: ${\n",
              "            file.lastModifiedDate ? file.lastModifiedDate.toLocaleDateString() :\n",
              "                                    'n/a'} - `));\n",
              "    const percent = span('0% done');\n",
              "    li.appendChild(percent);\n",
              "\n",
              "    outputElement.appendChild(li);\n",
              "\n",
              "    const fileDataPromise = new Promise((resolve) => {\n",
              "      const reader = new FileReader();\n",
              "      reader.onload = (e) => {\n",
              "        resolve(e.target.result);\n",
              "      };\n",
              "      reader.readAsArrayBuffer(file);\n",
              "    });\n",
              "    // Wait for the data to be ready.\n",
              "    let fileData = yield {\n",
              "      promise: fileDataPromise,\n",
              "      response: {\n",
              "        action: 'continue',\n",
              "      }\n",
              "    };\n",
              "\n",
              "    // Use a chunked sending to avoid message size limits. See b/62115660.\n",
              "    let position = 0;\n",
              "    do {\n",
              "      const length = Math.min(fileData.byteLength - position, MAX_PAYLOAD_SIZE);\n",
              "      const chunk = new Uint8Array(fileData, position, length);\n",
              "      position += length;\n",
              "\n",
              "      const base64 = btoa(String.fromCharCode.apply(null, chunk));\n",
              "      yield {\n",
              "        response: {\n",
              "          action: 'append',\n",
              "          file: file.name,\n",
              "          data: base64,\n",
              "        },\n",
              "      };\n",
              "\n",
              "      let percentDone = fileData.byteLength === 0 ?\n",
              "          100 :\n",
              "          Math.round((position / fileData.byteLength) * 100);\n",
              "      percent.textContent = `${percentDone}% done`;\n",
              "\n",
              "    } while (position < fileData.byteLength);\n",
              "  }\n",
              "\n",
              "  // All done.\n",
              "  yield {\n",
              "    response: {\n",
              "      action: 'complete',\n",
              "    }\n",
              "  };\n",
              "}\n",
              "\n",
              "scope.google = scope.google || {};\n",
              "scope.google.colab = scope.google.colab || {};\n",
              "scope.google.colab._files = {\n",
              "  _uploadFiles,\n",
              "  _uploadFilesContinue,\n",
              "};\n",
              "})(self);\n",
              "</script> "
            ]
          },
          "metadata": {}
        },
        {
          "output_type": "stream",
          "name": "stdout",
          "text": [
            "Saving Credit Banking_Project - 1.xls to Credit Banking_Project - 1.xls\n"
          ]
        }
      ],
      "source": [
        "from google.colab import files\n",
        "uploaded = files.upload()\n"
      ]
    },
    {
      "cell_type": "code",
      "source": [
        "import pandas as pd\n",
        "\n",
        "# If it's a .xls file, install xlrd first:\n",
        "!pip install xlrd\n",
        "\n",
        "# Load the file\n",
        "df = pd.read_excel(\"Credit Banking_Project - 1.xls\")\n",
        "\n",
        "# Preview the data\n",
        "df.head()\n"
      ],
      "metadata": {
        "colab": {
          "base_uri": "https://localhost:8080/",
          "height": 224
        },
        "id": "w4qOZSABK1a8",
        "outputId": "96ae342d-6ac1-4b70-8a06-e5dcfb65c9df"
      },
      "execution_count": null,
      "outputs": [
        {
          "output_type": "stream",
          "name": "stdout",
          "text": [
            "Requirement already satisfied: xlrd in /usr/local/lib/python3.11/dist-packages (2.0.2)\n"
          ]
        },
        {
          "output_type": "execute_result",
          "data": {
            "text/plain": [
              "   Sl No: Customer        Age       City Credit Card Product   Limit Company  \\\n",
              "0       1       A1   0.928521  BANGALORE                Gold  500000      C1   \n",
              "1       2       A2  35.534551   CALCUTTA              Silver  100000      C2   \n",
              "2       3       A3  11.559307     COCHIN            Platimum   10000      C3   \n",
              "3       4       A4  45.820278     BOMBAY            Platimum   10001      C4   \n",
              "4       5       A5  69.663948  BANGALORE            Platimum   10002      C5   \n",
              "\n",
              "         Segment  \n",
              "0  Self Employed  \n",
              "1   Salaried_MNC  \n",
              "2   Salaried_Pvt  \n",
              "3           Govt  \n",
              "4  Normal Salary  "
            ],
            "text/html": [
              "\n",
              "  <div id=\"df-29dd6f55-6178-4e1a-b288-0a64a703c91c\" class=\"colab-df-container\">\n",
              "    <div>\n",
              "<style scoped>\n",
              "    .dataframe tbody tr th:only-of-type {\n",
              "        vertical-align: middle;\n",
              "    }\n",
              "\n",
              "    .dataframe tbody tr th {\n",
              "        vertical-align: top;\n",
              "    }\n",
              "\n",
              "    .dataframe thead th {\n",
              "        text-align: right;\n",
              "    }\n",
              "</style>\n",
              "<table border=\"1\" class=\"dataframe\">\n",
              "  <thead>\n",
              "    <tr style=\"text-align: right;\">\n",
              "      <th></th>\n",
              "      <th>Sl No:</th>\n",
              "      <th>Customer</th>\n",
              "      <th>Age</th>\n",
              "      <th>City</th>\n",
              "      <th>Credit Card Product</th>\n",
              "      <th>Limit</th>\n",
              "      <th>Company</th>\n",
              "      <th>Segment</th>\n",
              "    </tr>\n",
              "  </thead>\n",
              "  <tbody>\n",
              "    <tr>\n",
              "      <th>0</th>\n",
              "      <td>1</td>\n",
              "      <td>A1</td>\n",
              "      <td>0.928521</td>\n",
              "      <td>BANGALORE</td>\n",
              "      <td>Gold</td>\n",
              "      <td>500000</td>\n",
              "      <td>C1</td>\n",
              "      <td>Self Employed</td>\n",
              "    </tr>\n",
              "    <tr>\n",
              "      <th>1</th>\n",
              "      <td>2</td>\n",
              "      <td>A2</td>\n",
              "      <td>35.534551</td>\n",
              "      <td>CALCUTTA</td>\n",
              "      <td>Silver</td>\n",
              "      <td>100000</td>\n",
              "      <td>C2</td>\n",
              "      <td>Salaried_MNC</td>\n",
              "    </tr>\n",
              "    <tr>\n",
              "      <th>2</th>\n",
              "      <td>3</td>\n",
              "      <td>A3</td>\n",
              "      <td>11.559307</td>\n",
              "      <td>COCHIN</td>\n",
              "      <td>Platimum</td>\n",
              "      <td>10000</td>\n",
              "      <td>C3</td>\n",
              "      <td>Salaried_Pvt</td>\n",
              "    </tr>\n",
              "    <tr>\n",
              "      <th>3</th>\n",
              "      <td>4</td>\n",
              "      <td>A4</td>\n",
              "      <td>45.820278</td>\n",
              "      <td>BOMBAY</td>\n",
              "      <td>Platimum</td>\n",
              "      <td>10001</td>\n",
              "      <td>C4</td>\n",
              "      <td>Govt</td>\n",
              "    </tr>\n",
              "    <tr>\n",
              "      <th>4</th>\n",
              "      <td>5</td>\n",
              "      <td>A5</td>\n",
              "      <td>69.663948</td>\n",
              "      <td>BANGALORE</td>\n",
              "      <td>Platimum</td>\n",
              "      <td>10002</td>\n",
              "      <td>C5</td>\n",
              "      <td>Normal Salary</td>\n",
              "    </tr>\n",
              "  </tbody>\n",
              "</table>\n",
              "</div>\n",
              "    <div class=\"colab-df-buttons\">\n",
              "\n",
              "  <div class=\"colab-df-container\">\n",
              "    <button class=\"colab-df-convert\" onclick=\"convertToInteractive('df-29dd6f55-6178-4e1a-b288-0a64a703c91c')\"\n",
              "            title=\"Convert this dataframe to an interactive table.\"\n",
              "            style=\"display:none;\">\n",
              "\n",
              "  <svg xmlns=\"http://www.w3.org/2000/svg\" height=\"24px\" viewBox=\"0 -960 960 960\">\n",
              "    <path d=\"M120-120v-720h720v720H120Zm60-500h600v-160H180v160Zm220 220h160v-160H400v160Zm0 220h160v-160H400v160ZM180-400h160v-160H180v160Zm440 0h160v-160H620v160ZM180-180h160v-160H180v160Zm440 0h160v-160H620v160Z\"/>\n",
              "  </svg>\n",
              "    </button>\n",
              "\n",
              "  <style>\n",
              "    .colab-df-container {\n",
              "      display:flex;\n",
              "      gap: 12px;\n",
              "    }\n",
              "\n",
              "    .colab-df-convert {\n",
              "      background-color: #E8F0FE;\n",
              "      border: none;\n",
              "      border-radius: 50%;\n",
              "      cursor: pointer;\n",
              "      display: none;\n",
              "      fill: #1967D2;\n",
              "      height: 32px;\n",
              "      padding: 0 0 0 0;\n",
              "      width: 32px;\n",
              "    }\n",
              "\n",
              "    .colab-df-convert:hover {\n",
              "      background-color: #E2EBFA;\n",
              "      box-shadow: 0px 1px 2px rgba(60, 64, 67, 0.3), 0px 1px 3px 1px rgba(60, 64, 67, 0.15);\n",
              "      fill: #174EA6;\n",
              "    }\n",
              "\n",
              "    .colab-df-buttons div {\n",
              "      margin-bottom: 4px;\n",
              "    }\n",
              "\n",
              "    [theme=dark] .colab-df-convert {\n",
              "      background-color: #3B4455;\n",
              "      fill: #D2E3FC;\n",
              "    }\n",
              "\n",
              "    [theme=dark] .colab-df-convert:hover {\n",
              "      background-color: #434B5C;\n",
              "      box-shadow: 0px 1px 3px 1px rgba(0, 0, 0, 0.15);\n",
              "      filter: drop-shadow(0px 1px 2px rgba(0, 0, 0, 0.3));\n",
              "      fill: #FFFFFF;\n",
              "    }\n",
              "  </style>\n",
              "\n",
              "    <script>\n",
              "      const buttonEl =\n",
              "        document.querySelector('#df-29dd6f55-6178-4e1a-b288-0a64a703c91c button.colab-df-convert');\n",
              "      buttonEl.style.display =\n",
              "        google.colab.kernel.accessAllowed ? 'block' : 'none';\n",
              "\n",
              "      async function convertToInteractive(key) {\n",
              "        const element = document.querySelector('#df-29dd6f55-6178-4e1a-b288-0a64a703c91c');\n",
              "        const dataTable =\n",
              "          await google.colab.kernel.invokeFunction('convertToInteractive',\n",
              "                                                    [key], {});\n",
              "        if (!dataTable) return;\n",
              "\n",
              "        const docLinkHtml = 'Like what you see? Visit the ' +\n",
              "          '<a target=\"_blank\" href=https://colab.research.google.com/notebooks/data_table.ipynb>data table notebook</a>'\n",
              "          + ' to learn more about interactive tables.';\n",
              "        element.innerHTML = '';\n",
              "        dataTable['output_type'] = 'display_data';\n",
              "        await google.colab.output.renderOutput(dataTable, element);\n",
              "        const docLink = document.createElement('div');\n",
              "        docLink.innerHTML = docLinkHtml;\n",
              "        element.appendChild(docLink);\n",
              "      }\n",
              "    </script>\n",
              "  </div>\n",
              "\n",
              "\n",
              "    <div id=\"df-23532ac1-7838-4ddc-8988-055ebb9eb2ca\">\n",
              "      <button class=\"colab-df-quickchart\" onclick=\"quickchart('df-23532ac1-7838-4ddc-8988-055ebb9eb2ca')\"\n",
              "                title=\"Suggest charts\"\n",
              "                style=\"display:none;\">\n",
              "\n",
              "<svg xmlns=\"http://www.w3.org/2000/svg\" height=\"24px\"viewBox=\"0 0 24 24\"\n",
              "     width=\"24px\">\n",
              "    <g>\n",
              "        <path d=\"M19 3H5c-1.1 0-2 .9-2 2v14c0 1.1.9 2 2 2h14c1.1 0 2-.9 2-2V5c0-1.1-.9-2-2-2zM9 17H7v-7h2v7zm4 0h-2V7h2v10zm4 0h-2v-4h2v4z\"/>\n",
              "    </g>\n",
              "</svg>\n",
              "      </button>\n",
              "\n",
              "<style>\n",
              "  .colab-df-quickchart {\n",
              "      --bg-color: #E8F0FE;\n",
              "      --fill-color: #1967D2;\n",
              "      --hover-bg-color: #E2EBFA;\n",
              "      --hover-fill-color: #174EA6;\n",
              "      --disabled-fill-color: #AAA;\n",
              "      --disabled-bg-color: #DDD;\n",
              "  }\n",
              "\n",
              "  [theme=dark] .colab-df-quickchart {\n",
              "      --bg-color: #3B4455;\n",
              "      --fill-color: #D2E3FC;\n",
              "      --hover-bg-color: #434B5C;\n",
              "      --hover-fill-color: #FFFFFF;\n",
              "      --disabled-bg-color: #3B4455;\n",
              "      --disabled-fill-color: #666;\n",
              "  }\n",
              "\n",
              "  .colab-df-quickchart {\n",
              "    background-color: var(--bg-color);\n",
              "    border: none;\n",
              "    border-radius: 50%;\n",
              "    cursor: pointer;\n",
              "    display: none;\n",
              "    fill: var(--fill-color);\n",
              "    height: 32px;\n",
              "    padding: 0;\n",
              "    width: 32px;\n",
              "  }\n",
              "\n",
              "  .colab-df-quickchart:hover {\n",
              "    background-color: var(--hover-bg-color);\n",
              "    box-shadow: 0 1px 2px rgba(60, 64, 67, 0.3), 0 1px 3px 1px rgba(60, 64, 67, 0.15);\n",
              "    fill: var(--button-hover-fill-color);\n",
              "  }\n",
              "\n",
              "  .colab-df-quickchart-complete:disabled,\n",
              "  .colab-df-quickchart-complete:disabled:hover {\n",
              "    background-color: var(--disabled-bg-color);\n",
              "    fill: var(--disabled-fill-color);\n",
              "    box-shadow: none;\n",
              "  }\n",
              "\n",
              "  .colab-df-spinner {\n",
              "    border: 2px solid var(--fill-color);\n",
              "    border-color: transparent;\n",
              "    border-bottom-color: var(--fill-color);\n",
              "    animation:\n",
              "      spin 1s steps(1) infinite;\n",
              "  }\n",
              "\n",
              "  @keyframes spin {\n",
              "    0% {\n",
              "      border-color: transparent;\n",
              "      border-bottom-color: var(--fill-color);\n",
              "      border-left-color: var(--fill-color);\n",
              "    }\n",
              "    20% {\n",
              "      border-color: transparent;\n",
              "      border-left-color: var(--fill-color);\n",
              "      border-top-color: var(--fill-color);\n",
              "    }\n",
              "    30% {\n",
              "      border-color: transparent;\n",
              "      border-left-color: var(--fill-color);\n",
              "      border-top-color: var(--fill-color);\n",
              "      border-right-color: var(--fill-color);\n",
              "    }\n",
              "    40% {\n",
              "      border-color: transparent;\n",
              "      border-right-color: var(--fill-color);\n",
              "      border-top-color: var(--fill-color);\n",
              "    }\n",
              "    60% {\n",
              "      border-color: transparent;\n",
              "      border-right-color: var(--fill-color);\n",
              "    }\n",
              "    80% {\n",
              "      border-color: transparent;\n",
              "      border-right-color: var(--fill-color);\n",
              "      border-bottom-color: var(--fill-color);\n",
              "    }\n",
              "    90% {\n",
              "      border-color: transparent;\n",
              "      border-bottom-color: var(--fill-color);\n",
              "    }\n",
              "  }\n",
              "</style>\n",
              "\n",
              "      <script>\n",
              "        async function quickchart(key) {\n",
              "          const quickchartButtonEl =\n",
              "            document.querySelector('#' + key + ' button');\n",
              "          quickchartButtonEl.disabled = true;  // To prevent multiple clicks.\n",
              "          quickchartButtonEl.classList.add('colab-df-spinner');\n",
              "          try {\n",
              "            const charts = await google.colab.kernel.invokeFunction(\n",
              "                'suggestCharts', [key], {});\n",
              "          } catch (error) {\n",
              "            console.error('Error during call to suggestCharts:', error);\n",
              "          }\n",
              "          quickchartButtonEl.classList.remove('colab-df-spinner');\n",
              "          quickchartButtonEl.classList.add('colab-df-quickchart-complete');\n",
              "        }\n",
              "        (() => {\n",
              "          let quickchartButtonEl =\n",
              "            document.querySelector('#df-23532ac1-7838-4ddc-8988-055ebb9eb2ca button');\n",
              "          quickchartButtonEl.style.display =\n",
              "            google.colab.kernel.accessAllowed ? 'block' : 'none';\n",
              "        })();\n",
              "      </script>\n",
              "    </div>\n",
              "\n",
              "    </div>\n",
              "  </div>\n"
            ],
            "application/vnd.google.colaboratory.intrinsic+json": {
              "type": "dataframe",
              "variable_name": "df",
              "summary": "{\n  \"name\": \"df\",\n  \"rows\": 100,\n  \"fields\": [\n    {\n      \"column\": \"Sl No:\",\n      \"properties\": {\n        \"dtype\": \"number\",\n        \"std\": 29,\n        \"min\": 1,\n        \"max\": 100,\n        \"num_unique_values\": 100,\n        \"samples\": [\n          84,\n          54,\n          71\n        ],\n        \"semantic_type\": \"\",\n        \"description\": \"\"\n      }\n    },\n    {\n      \"column\": \"Customer\",\n      \"properties\": {\n        \"dtype\": \"string\",\n        \"num_unique_values\": 100,\n        \"samples\": [\n          \"A84\",\n          \"A54\",\n          \"A71\"\n        ],\n        \"semantic_type\": \"\",\n        \"description\": \"\"\n      }\n    },\n    {\n      \"column\": \"Age\",\n      \"properties\": {\n        \"dtype\": \"number\",\n        \"std\": 23.62959433212809,\n        \"min\": 0.726493181505603,\n        \"max\": 78.4317555468021,\n        \"num_unique_values\": 100,\n        \"samples\": [\n          37.29074762153953,\n          69.15399405932847,\n          52.3337958703516\n        ],\n        \"semantic_type\": \"\",\n        \"description\": \"\"\n      }\n    },\n    {\n      \"column\": \"City\",\n      \"properties\": {\n        \"dtype\": \"category\",\n        \"num_unique_values\": 8,\n        \"samples\": [\n          \"CALCUTTA\",\n          \"PATNA\",\n          \"BANGALORE\"\n        ],\n        \"semantic_type\": \"\",\n        \"description\": \"\"\n      }\n    },\n    {\n      \"column\": \"Credit Card Product\",\n      \"properties\": {\n        \"dtype\": \"category\",\n        \"num_unique_values\": 3,\n        \"samples\": [\n          \"Gold\",\n          \"Silver\",\n          \"Platimum\"\n        ],\n        \"semantic_type\": \"\",\n        \"description\": \"\"\n      }\n    },\n    {\n      \"column\": \"Limit\",\n      \"properties\": {\n        \"dtype\": \"number\",\n        \"std\": 218494,\n        \"min\": 10000,\n        \"max\": 500000,\n        \"num_unique_values\": 8,\n        \"samples\": [\n          100000,\n          100001,\n          500000\n        ],\n        \"semantic_type\": \"\",\n        \"description\": \"\"\n      }\n    },\n    {\n      \"column\": \"Company\",\n      \"properties\": {\n        \"dtype\": \"category\",\n        \"num_unique_values\": 41,\n        \"samples\": [\n          \"C25\",\n          \"C14\",\n          \"C9\"\n        ],\n        \"semantic_type\": \"\",\n        \"description\": \"\"\n      }\n    },\n    {\n      \"column\": \"Segment\",\n      \"properties\": {\n        \"dtype\": \"category\",\n        \"num_unique_values\": 5,\n        \"samples\": [\n          \"Salaried_MNC\",\n          \"Normal Salary\",\n          \"Salaried_Pvt\"\n        ],\n        \"semantic_type\": \"\",\n        \"description\": \"\"\n      }\n    }\n  ]\n}"
            }
          },
          "metadata": {},
          "execution_count": 2
        }
      ]
    },
    {
      "cell_type": "code",
      "source": [
        "import pandas as pd\n",
        "\n",
        "# Already loaded in your case:\n",
        "df = pd.read_excel(\"Credit Banking_Project - 1.xls\")\n",
        "\n",
        "# Check the column names and data types\n",
        "df.info()\n",
        "df.head()\n"
      ],
      "metadata": {
        "colab": {
          "base_uri": "https://localhost:8080/",
          "height": 474
        },
        "id": "A6TxNlX2LEXr",
        "outputId": "3c80b74d-fa8c-42bc-e91b-ff11a45ef1be"
      },
      "execution_count": null,
      "outputs": [
        {
          "output_type": "stream",
          "name": "stdout",
          "text": [
            "<class 'pandas.core.frame.DataFrame'>\n",
            "RangeIndex: 100 entries, 0 to 99\n",
            "Data columns (total 8 columns):\n",
            " #   Column               Non-Null Count  Dtype  \n",
            "---  ------               --------------  -----  \n",
            " 0   Sl No:               100 non-null    int64  \n",
            " 1   Customer             100 non-null    object \n",
            " 2   Age                  100 non-null    float64\n",
            " 3   City                 100 non-null    object \n",
            " 4   Credit Card Product  100 non-null    object \n",
            " 5   Limit                100 non-null    int64  \n",
            " 6   Company              100 non-null    object \n",
            " 7   Segment              100 non-null    object \n",
            "dtypes: float64(1), int64(2), object(5)\n",
            "memory usage: 6.4+ KB\n"
          ]
        },
        {
          "output_type": "execute_result",
          "data": {
            "text/plain": [
              "   Sl No: Customer        Age       City Credit Card Product   Limit Company  \\\n",
              "0       1       A1   0.928521  BANGALORE                Gold  500000      C1   \n",
              "1       2       A2  35.534551   CALCUTTA              Silver  100000      C2   \n",
              "2       3       A3  11.559307     COCHIN            Platimum   10000      C3   \n",
              "3       4       A4  45.820278     BOMBAY            Platimum   10001      C4   \n",
              "4       5       A5  69.663948  BANGALORE            Platimum   10002      C5   \n",
              "\n",
              "         Segment  \n",
              "0  Self Employed  \n",
              "1   Salaried_MNC  \n",
              "2   Salaried_Pvt  \n",
              "3           Govt  \n",
              "4  Normal Salary  "
            ],
            "text/html": [
              "\n",
              "  <div id=\"df-fd6f732d-ffb8-4620-8aee-4f9898d30b36\" class=\"colab-df-container\">\n",
              "    <div>\n",
              "<style scoped>\n",
              "    .dataframe tbody tr th:only-of-type {\n",
              "        vertical-align: middle;\n",
              "    }\n",
              "\n",
              "    .dataframe tbody tr th {\n",
              "        vertical-align: top;\n",
              "    }\n",
              "\n",
              "    .dataframe thead th {\n",
              "        text-align: right;\n",
              "    }\n",
              "</style>\n",
              "<table border=\"1\" class=\"dataframe\">\n",
              "  <thead>\n",
              "    <tr style=\"text-align: right;\">\n",
              "      <th></th>\n",
              "      <th>Sl No:</th>\n",
              "      <th>Customer</th>\n",
              "      <th>Age</th>\n",
              "      <th>City</th>\n",
              "      <th>Credit Card Product</th>\n",
              "      <th>Limit</th>\n",
              "      <th>Company</th>\n",
              "      <th>Segment</th>\n",
              "    </tr>\n",
              "  </thead>\n",
              "  <tbody>\n",
              "    <tr>\n",
              "      <th>0</th>\n",
              "      <td>1</td>\n",
              "      <td>A1</td>\n",
              "      <td>0.928521</td>\n",
              "      <td>BANGALORE</td>\n",
              "      <td>Gold</td>\n",
              "      <td>500000</td>\n",
              "      <td>C1</td>\n",
              "      <td>Self Employed</td>\n",
              "    </tr>\n",
              "    <tr>\n",
              "      <th>1</th>\n",
              "      <td>2</td>\n",
              "      <td>A2</td>\n",
              "      <td>35.534551</td>\n",
              "      <td>CALCUTTA</td>\n",
              "      <td>Silver</td>\n",
              "      <td>100000</td>\n",
              "      <td>C2</td>\n",
              "      <td>Salaried_MNC</td>\n",
              "    </tr>\n",
              "    <tr>\n",
              "      <th>2</th>\n",
              "      <td>3</td>\n",
              "      <td>A3</td>\n",
              "      <td>11.559307</td>\n",
              "      <td>COCHIN</td>\n",
              "      <td>Platimum</td>\n",
              "      <td>10000</td>\n",
              "      <td>C3</td>\n",
              "      <td>Salaried_Pvt</td>\n",
              "    </tr>\n",
              "    <tr>\n",
              "      <th>3</th>\n",
              "      <td>4</td>\n",
              "      <td>A4</td>\n",
              "      <td>45.820278</td>\n",
              "      <td>BOMBAY</td>\n",
              "      <td>Platimum</td>\n",
              "      <td>10001</td>\n",
              "      <td>C4</td>\n",
              "      <td>Govt</td>\n",
              "    </tr>\n",
              "    <tr>\n",
              "      <th>4</th>\n",
              "      <td>5</td>\n",
              "      <td>A5</td>\n",
              "      <td>69.663948</td>\n",
              "      <td>BANGALORE</td>\n",
              "      <td>Platimum</td>\n",
              "      <td>10002</td>\n",
              "      <td>C5</td>\n",
              "      <td>Normal Salary</td>\n",
              "    </tr>\n",
              "  </tbody>\n",
              "</table>\n",
              "</div>\n",
              "    <div class=\"colab-df-buttons\">\n",
              "\n",
              "  <div class=\"colab-df-container\">\n",
              "    <button class=\"colab-df-convert\" onclick=\"convertToInteractive('df-fd6f732d-ffb8-4620-8aee-4f9898d30b36')\"\n",
              "            title=\"Convert this dataframe to an interactive table.\"\n",
              "            style=\"display:none;\">\n",
              "\n",
              "  <svg xmlns=\"http://www.w3.org/2000/svg\" height=\"24px\" viewBox=\"0 -960 960 960\">\n",
              "    <path d=\"M120-120v-720h720v720H120Zm60-500h600v-160H180v160Zm220 220h160v-160H400v160Zm0 220h160v-160H400v160ZM180-400h160v-160H180v160Zm440 0h160v-160H620v160ZM180-180h160v-160H180v160Zm440 0h160v-160H620v160Z\"/>\n",
              "  </svg>\n",
              "    </button>\n",
              "\n",
              "  <style>\n",
              "    .colab-df-container {\n",
              "      display:flex;\n",
              "      gap: 12px;\n",
              "    }\n",
              "\n",
              "    .colab-df-convert {\n",
              "      background-color: #E8F0FE;\n",
              "      border: none;\n",
              "      border-radius: 50%;\n",
              "      cursor: pointer;\n",
              "      display: none;\n",
              "      fill: #1967D2;\n",
              "      height: 32px;\n",
              "      padding: 0 0 0 0;\n",
              "      width: 32px;\n",
              "    }\n",
              "\n",
              "    .colab-df-convert:hover {\n",
              "      background-color: #E2EBFA;\n",
              "      box-shadow: 0px 1px 2px rgba(60, 64, 67, 0.3), 0px 1px 3px 1px rgba(60, 64, 67, 0.15);\n",
              "      fill: #174EA6;\n",
              "    }\n",
              "\n",
              "    .colab-df-buttons div {\n",
              "      margin-bottom: 4px;\n",
              "    }\n",
              "\n",
              "    [theme=dark] .colab-df-convert {\n",
              "      background-color: #3B4455;\n",
              "      fill: #D2E3FC;\n",
              "    }\n",
              "\n",
              "    [theme=dark] .colab-df-convert:hover {\n",
              "      background-color: #434B5C;\n",
              "      box-shadow: 0px 1px 3px 1px rgba(0, 0, 0, 0.15);\n",
              "      filter: drop-shadow(0px 1px 2px rgba(0, 0, 0, 0.3));\n",
              "      fill: #FFFFFF;\n",
              "    }\n",
              "  </style>\n",
              "\n",
              "    <script>\n",
              "      const buttonEl =\n",
              "        document.querySelector('#df-fd6f732d-ffb8-4620-8aee-4f9898d30b36 button.colab-df-convert');\n",
              "      buttonEl.style.display =\n",
              "        google.colab.kernel.accessAllowed ? 'block' : 'none';\n",
              "\n",
              "      async function convertToInteractive(key) {\n",
              "        const element = document.querySelector('#df-fd6f732d-ffb8-4620-8aee-4f9898d30b36');\n",
              "        const dataTable =\n",
              "          await google.colab.kernel.invokeFunction('convertToInteractive',\n",
              "                                                    [key], {});\n",
              "        if (!dataTable) return;\n",
              "\n",
              "        const docLinkHtml = 'Like what you see? Visit the ' +\n",
              "          '<a target=\"_blank\" href=https://colab.research.google.com/notebooks/data_table.ipynb>data table notebook</a>'\n",
              "          + ' to learn more about interactive tables.';\n",
              "        element.innerHTML = '';\n",
              "        dataTable['output_type'] = 'display_data';\n",
              "        await google.colab.output.renderOutput(dataTable, element);\n",
              "        const docLink = document.createElement('div');\n",
              "        docLink.innerHTML = docLinkHtml;\n",
              "        element.appendChild(docLink);\n",
              "      }\n",
              "    </script>\n",
              "  </div>\n",
              "\n",
              "\n",
              "    <div id=\"df-73341af6-93d0-4256-b9e5-922e327a74e7\">\n",
              "      <button class=\"colab-df-quickchart\" onclick=\"quickchart('df-73341af6-93d0-4256-b9e5-922e327a74e7')\"\n",
              "                title=\"Suggest charts\"\n",
              "                style=\"display:none;\">\n",
              "\n",
              "<svg xmlns=\"http://www.w3.org/2000/svg\" height=\"24px\"viewBox=\"0 0 24 24\"\n",
              "     width=\"24px\">\n",
              "    <g>\n",
              "        <path d=\"M19 3H5c-1.1 0-2 .9-2 2v14c0 1.1.9 2 2 2h14c1.1 0 2-.9 2-2V5c0-1.1-.9-2-2-2zM9 17H7v-7h2v7zm4 0h-2V7h2v10zm4 0h-2v-4h2v4z\"/>\n",
              "    </g>\n",
              "</svg>\n",
              "      </button>\n",
              "\n",
              "<style>\n",
              "  .colab-df-quickchart {\n",
              "      --bg-color: #E8F0FE;\n",
              "      --fill-color: #1967D2;\n",
              "      --hover-bg-color: #E2EBFA;\n",
              "      --hover-fill-color: #174EA6;\n",
              "      --disabled-fill-color: #AAA;\n",
              "      --disabled-bg-color: #DDD;\n",
              "  }\n",
              "\n",
              "  [theme=dark] .colab-df-quickchart {\n",
              "      --bg-color: #3B4455;\n",
              "      --fill-color: #D2E3FC;\n",
              "      --hover-bg-color: #434B5C;\n",
              "      --hover-fill-color: #FFFFFF;\n",
              "      --disabled-bg-color: #3B4455;\n",
              "      --disabled-fill-color: #666;\n",
              "  }\n",
              "\n",
              "  .colab-df-quickchart {\n",
              "    background-color: var(--bg-color);\n",
              "    border: none;\n",
              "    border-radius: 50%;\n",
              "    cursor: pointer;\n",
              "    display: none;\n",
              "    fill: var(--fill-color);\n",
              "    height: 32px;\n",
              "    padding: 0;\n",
              "    width: 32px;\n",
              "  }\n",
              "\n",
              "  .colab-df-quickchart:hover {\n",
              "    background-color: var(--hover-bg-color);\n",
              "    box-shadow: 0 1px 2px rgba(60, 64, 67, 0.3), 0 1px 3px 1px rgba(60, 64, 67, 0.15);\n",
              "    fill: var(--button-hover-fill-color);\n",
              "  }\n",
              "\n",
              "  .colab-df-quickchart-complete:disabled,\n",
              "  .colab-df-quickchart-complete:disabled:hover {\n",
              "    background-color: var(--disabled-bg-color);\n",
              "    fill: var(--disabled-fill-color);\n",
              "    box-shadow: none;\n",
              "  }\n",
              "\n",
              "  .colab-df-spinner {\n",
              "    border: 2px solid var(--fill-color);\n",
              "    border-color: transparent;\n",
              "    border-bottom-color: var(--fill-color);\n",
              "    animation:\n",
              "      spin 1s steps(1) infinite;\n",
              "  }\n",
              "\n",
              "  @keyframes spin {\n",
              "    0% {\n",
              "      border-color: transparent;\n",
              "      border-bottom-color: var(--fill-color);\n",
              "      border-left-color: var(--fill-color);\n",
              "    }\n",
              "    20% {\n",
              "      border-color: transparent;\n",
              "      border-left-color: var(--fill-color);\n",
              "      border-top-color: var(--fill-color);\n",
              "    }\n",
              "    30% {\n",
              "      border-color: transparent;\n",
              "      border-left-color: var(--fill-color);\n",
              "      border-top-color: var(--fill-color);\n",
              "      border-right-color: var(--fill-color);\n",
              "    }\n",
              "    40% {\n",
              "      border-color: transparent;\n",
              "      border-right-color: var(--fill-color);\n",
              "      border-top-color: var(--fill-color);\n",
              "    }\n",
              "    60% {\n",
              "      border-color: transparent;\n",
              "      border-right-color: var(--fill-color);\n",
              "    }\n",
              "    80% {\n",
              "      border-color: transparent;\n",
              "      border-right-color: var(--fill-color);\n",
              "      border-bottom-color: var(--fill-color);\n",
              "    }\n",
              "    90% {\n",
              "      border-color: transparent;\n",
              "      border-bottom-color: var(--fill-color);\n",
              "    }\n",
              "  }\n",
              "</style>\n",
              "\n",
              "      <script>\n",
              "        async function quickchart(key) {\n",
              "          const quickchartButtonEl =\n",
              "            document.querySelector('#' + key + ' button');\n",
              "          quickchartButtonEl.disabled = true;  // To prevent multiple clicks.\n",
              "          quickchartButtonEl.classList.add('colab-df-spinner');\n",
              "          try {\n",
              "            const charts = await google.colab.kernel.invokeFunction(\n",
              "                'suggestCharts', [key], {});\n",
              "          } catch (error) {\n",
              "            console.error('Error during call to suggestCharts:', error);\n",
              "          }\n",
              "          quickchartButtonEl.classList.remove('colab-df-spinner');\n",
              "          quickchartButtonEl.classList.add('colab-df-quickchart-complete');\n",
              "        }\n",
              "        (() => {\n",
              "          let quickchartButtonEl =\n",
              "            document.querySelector('#df-73341af6-93d0-4256-b9e5-922e327a74e7 button');\n",
              "          quickchartButtonEl.style.display =\n",
              "            google.colab.kernel.accessAllowed ? 'block' : 'none';\n",
              "        })();\n",
              "      </script>\n",
              "    </div>\n",
              "\n",
              "    </div>\n",
              "  </div>\n"
            ],
            "application/vnd.google.colaboratory.intrinsic+json": {
              "type": "dataframe",
              "variable_name": "df",
              "summary": "{\n  \"name\": \"df\",\n  \"rows\": 100,\n  \"fields\": [\n    {\n      \"column\": \"Sl No:\",\n      \"properties\": {\n        \"dtype\": \"number\",\n        \"std\": 29,\n        \"min\": 1,\n        \"max\": 100,\n        \"num_unique_values\": 100,\n        \"samples\": [\n          84,\n          54,\n          71\n        ],\n        \"semantic_type\": \"\",\n        \"description\": \"\"\n      }\n    },\n    {\n      \"column\": \"Customer\",\n      \"properties\": {\n        \"dtype\": \"string\",\n        \"num_unique_values\": 100,\n        \"samples\": [\n          \"A84\",\n          \"A54\",\n          \"A71\"\n        ],\n        \"semantic_type\": \"\",\n        \"description\": \"\"\n      }\n    },\n    {\n      \"column\": \"Age\",\n      \"properties\": {\n        \"dtype\": \"number\",\n        \"std\": 23.62959433212809,\n        \"min\": 0.726493181505603,\n        \"max\": 78.4317555468021,\n        \"num_unique_values\": 100,\n        \"samples\": [\n          37.29074762153953,\n          69.15399405932847,\n          52.3337958703516\n        ],\n        \"semantic_type\": \"\",\n        \"description\": \"\"\n      }\n    },\n    {\n      \"column\": \"City\",\n      \"properties\": {\n        \"dtype\": \"category\",\n        \"num_unique_values\": 8,\n        \"samples\": [\n          \"CALCUTTA\",\n          \"PATNA\",\n          \"BANGALORE\"\n        ],\n        \"semantic_type\": \"\",\n        \"description\": \"\"\n      }\n    },\n    {\n      \"column\": \"Credit Card Product\",\n      \"properties\": {\n        \"dtype\": \"category\",\n        \"num_unique_values\": 3,\n        \"samples\": [\n          \"Gold\",\n          \"Silver\",\n          \"Platimum\"\n        ],\n        \"semantic_type\": \"\",\n        \"description\": \"\"\n      }\n    },\n    {\n      \"column\": \"Limit\",\n      \"properties\": {\n        \"dtype\": \"number\",\n        \"std\": 218494,\n        \"min\": 10000,\n        \"max\": 500000,\n        \"num_unique_values\": 8,\n        \"samples\": [\n          100000,\n          100001,\n          500000\n        ],\n        \"semantic_type\": \"\",\n        \"description\": \"\"\n      }\n    },\n    {\n      \"column\": \"Company\",\n      \"properties\": {\n        \"dtype\": \"category\",\n        \"num_unique_values\": 41,\n        \"samples\": [\n          \"C25\",\n          \"C14\",\n          \"C9\"\n        ],\n        \"semantic_type\": \"\",\n        \"description\": \"\"\n      }\n    },\n    {\n      \"column\": \"Segment\",\n      \"properties\": {\n        \"dtype\": \"category\",\n        \"num_unique_values\": 5,\n        \"samples\": [\n          \"Salaried_MNC\",\n          \"Normal Salary\",\n          \"Salaried_Pvt\"\n        ],\n        \"semantic_type\": \"\",\n        \"description\": \"\"\n      }\n    }\n  ]\n}"
            }
          },
          "metadata": {},
          "execution_count": 3
        }
      ]
    },
    {
      "cell_type": "code",
      "source": [
        "print(df.columns.tolist())"
      ],
      "metadata": {
        "colab": {
          "base_uri": "https://localhost:8080/"
        },
        "id": "0VX7cW44LyZg",
        "outputId": "05052c61-84b5-4158-adcf-7e2583c36a11"
      },
      "execution_count": null,
      "outputs": [
        {
          "output_type": "stream",
          "name": "stdout",
          "text": [
            "['Sl No:', 'Customer', 'Age', 'City', 'Credit Card Product', 'Limit', 'Company', 'Segment']\n"
          ]
        }
      ]
    },
    {
      "cell_type": "code",
      "source": [
        "import pandas as pd\n",
        "\n",
        "# Load the entire Excel file\n",
        "xls = pd.ExcelFile(\"Credit Banking_Project - 1.xls\")\n",
        "\n",
        "# See all sheet names\n",
        "print(xls.sheet_names)\n"
      ],
      "metadata": {
        "colab": {
          "base_uri": "https://localhost:8080/"
        },
        "id": "YF7_J8wsPTw3",
        "outputId": "d7a5ae85-610b-434d-a3ea-052531642f5b"
      },
      "execution_count": null,
      "outputs": [
        {
          "output_type": "stream",
          "name": "stdout",
          "text": [
            "['Customer Acqusition', 'Spend', 'Repayment']\n"
          ]
        }
      ]
    },
    {
      "cell_type": "code",
      "source": [
        "xls = pd.ExcelFile(\"Credit Banking_Project - 1.xls\")\n",
        "print(xls.sheet_names)"
      ],
      "metadata": {
        "colab": {
          "base_uri": "https://localhost:8080/"
        },
        "id": "M7CGYqjZPXtl",
        "outputId": "0f88fdff-75d8-4cec-b885-62580e6134c4"
      },
      "execution_count": null,
      "outputs": [
        {
          "output_type": "stream",
          "name": "stdout",
          "text": [
            "['Customer Acqusition', 'Spend', 'Repayment']\n"
          ]
        }
      ]
    },
    {
      "cell_type": "code",
      "source": [
        "df_customers = pd.read_excel(xls, sheet_name=\"Customer Acqusition\")\n",
        "df_spend = pd.read_excel(xls, sheet_name=\"Spend\")\n",
        "df_repay = pd.read_excel(xls, sheet_name=\"Repayment\")\n",
        "\n",
        "\n",
        "print(df_customers.head())\n",
        "print(df_spend.head())\n",
        "print(df_repay.head())\n"
      ],
      "metadata": {
        "colab": {
          "base_uri": "https://localhost:8080/"
        },
        "id": "lju5H-VZQB0P",
        "outputId": "81f19253-9419-4456-9ce4-8b4cb807fbc6"
      },
      "execution_count": null,
      "outputs": [
        {
          "output_type": "stream",
          "name": "stdout",
          "text": [
            "   Sl No: Customer        Age       City Credit Card Product   Limit Company  \\\n",
            "0       1       A1   0.928521  BANGALORE                Gold  500000      C1   \n",
            "1       2       A2  35.534551   CALCUTTA              Silver  100000      C2   \n",
            "2       3       A3  11.559307     COCHIN            Platimum   10000      C3   \n",
            "3       4       A4  45.820278     BOMBAY            Platimum   10001      C4   \n",
            "4       5       A5  69.663948  BANGALORE            Platimum   10002      C5   \n",
            "\n",
            "         Segment  \n",
            "0  Self Employed  \n",
            "1   Salaried_MNC  \n",
            "2   Salaried_Pvt  \n",
            "3           Govt  \n",
            "4  Normal Salary  \n",
            "   Sl No: Costomer      Month       Type         Amount\n",
            "0       1       A1 2004-01-12  JEWELLERY  473775.834869\n",
            "1       2       A1 2004-01-03      PETRO  335578.666019\n",
            "2       3       A1 2004-01-15    CLOTHES  371040.941912\n",
            "3       4       A1 2004-01-25       FOOD  141177.813256\n",
            "4       5       A1 2005-01-17     CAMERA  398403.771812\n",
            "   SL No: Costomer      Month         Amount\n",
            "0       1       A1 2004-01-12  331844.007374\n",
            "1       2       A1 2004-01-03  441139.807335\n",
            "2       3       A1 2004-01-15   32480.004009\n",
            "3       4       A1 2004-01-25   90636.966534\n",
            "4       5       A1 2005-01-17    1581.969829\n"
          ]
        }
      ]
    },
    {
      "cell_type": "code",
      "source": [
        "df_customers = df_customers[df_customers['Age'] >= 18]\n"
      ],
      "metadata": {
        "id": "KvBRIVQ3QQSh"
      },
      "execution_count": null,
      "outputs": []
    },
    {
      "cell_type": "code",
      "source": [
        "df_spend['Month'] = pd.to_datetime(df_spend['Month']).dt.to_period('M')\n",
        "df_repay['Month'] = pd.to_datetime(df_repay['Month']).dt.to_period('M')\n"
      ],
      "metadata": {
        "id": "ylL7UD_KQSOP"
      },
      "execution_count": null,
      "outputs": []
    },
    {
      "cell_type": "code",
      "source": [
        "monthly_spend = df_spend.groupby(['Costomer', 'Month'])['Amount'].sum().reset_index()\n",
        "monthly_spend.rename(columns={'Amount': 'Amount_Spent'}, inplace=True)"
      ],
      "metadata": {
        "id": "H1STF5SlQVgx"
      },
      "execution_count": null,
      "outputs": []
    },
    {
      "cell_type": "code",
      "source": [
        "monthly_repay = df_repay.groupby(['Costomer', 'Month'])['Amount'].sum().reset_index()\n",
        "monthly_repay.rename(columns={'Amount': 'Amount_Repaid'}, inplace=True)\n"
      ],
      "metadata": {
        "id": "MX-elJMhQu1n"
      },
      "execution_count": null,
      "outputs": []
    },
    {
      "cell_type": "code",
      "source": [
        "df_merged = pd.merge(monthly_spend, monthly_repay, on=['Costomer', 'Month'], how='outer')\n",
        "df_merged.fillna(0, inplace=True)\n"
      ],
      "metadata": {
        "id": "NUEgQ2TmRDay"
      },
      "execution_count": null,
      "outputs": []
    },
    {
      "cell_type": "code",
      "source": [
        "df_merged['Due'] = df_merged['Amount_Spent'] - df_merged['Amount_Repaid']\n",
        "df_merged['Due'] = df_merged['Due'].apply(lambda x: x if x > 0 else 0)\n",
        "df_merged['Interest'] = df_merged['Due'] * 0.029\n"
      ],
      "metadata": {
        "id": "fLrWlbq4RHfO"
      },
      "execution_count": null,
      "outputs": []
    },
    {
      "cell_type": "code",
      "source": [
        "monthly_profit = df_merged.groupby('Month')['Interest'].sum().reset_index()\n",
        "monthly_profit.rename(columns={'Interest': 'Monthly_Profit'}, inplace=True)\n",
        "\n",
        "print(monthly_profit)\n"
      ],
      "metadata": {
        "colab": {
          "base_uri": "https://localhost:8080/"
        },
        "id": "_paWxqa3RK05",
        "outputId": "0089ebf6-8646-4017-ab2f-169d8e58d2b4"
      },
      "execution_count": null,
      "outputs": [
        {
          "output_type": "stream",
          "name": "stdout",
          "text": [
            "      Month  Monthly_Profit\n",
            "0   2004-01   577723.308202\n",
            "1   2004-02   179315.885641\n",
            "2   2004-03    91546.513730\n",
            "3   2004-04   139859.166924\n",
            "4   2004-05    82054.695624\n",
            "5   2004-09    91544.371589\n",
            "6   2004-11    95829.677364\n",
            "7   2005-01   164964.788671\n",
            "8   2005-02   370686.166216\n",
            "9   2005-04   142960.570603\n",
            "10  2005-05   291676.623170\n",
            "11  2005-06   205566.639139\n",
            "12  2005-07    59396.423760\n",
            "13  2005-08   158686.681372\n",
            "14  2005-09    74482.093215\n",
            "15  2005-10    67811.872156\n",
            "16  2005-11   248955.680944\n",
            "17  2005-12    71185.390211\n",
            "18  2006-01    84424.371972\n",
            "19  2006-02   199521.382500\n",
            "20  2006-03   480587.306377\n",
            "21  2006-04   406504.790904\n",
            "22  2006-05   182230.987848\n",
            "23  2006-06   104225.138552\n",
            "24  2006-07   172635.030083\n",
            "25  2006-08    64692.969671\n",
            "26  2006-09    92836.418242\n",
            "27  2006-10    78690.039876\n",
            "28  2006-11   170797.914505\n",
            "29  2006-12    77000.673581\n"
          ]
        }
      ]
    },
    {
      "cell_type": "code",
      "source": [
        "top_customers = df_merged.groupby('Costomer')['Amount_Spent'].sum().nlargest(10).reset_index()\n",
        "\n",
        "print(top_customers)\n"
      ],
      "metadata": {
        "colab": {
          "base_uri": "https://localhost:8080/"
        },
        "id": "j4SZChV1RVEY",
        "outputId": "593b609b-1b7b-4acc-bb4c-fa898ae1395d"
      },
      "execution_count": null,
      "outputs": [
        {
          "output_type": "stream",
          "name": "stdout",
          "text": [
            "  Costomer  Amount_Spent\n",
            "0      A22  9.637819e+06\n",
            "1      A40  9.595040e+06\n",
            "2      A60  9.317672e+06\n",
            "3      A61  9.148468e+06\n",
            "4      A48  9.056652e+06\n",
            "5      A42  8.665639e+06\n",
            "6      A41  8.583532e+06\n",
            "7      A39  8.526678e+06\n",
            "8      A45  8.498612e+06\n",
            "9      A13  8.042339e+06\n"
          ]
        }
      ]
    },
    {
      "cell_type": "code",
      "source": [
        "df_merged.rename(columns={'Costomer': 'Customer'}, inplace=True)\n",
        "\n",
        "\n",
        "df_final = pd.merge(df_merged, df_customers, on='Customer', how='left')\n",
        "\n",
        "print(df_final.head())\n"
      ],
      "metadata": {
        "colab": {
          "base_uri": "https://localhost:8080/"
        },
        "id": "RQdMxznQRbeR",
        "outputId": "bee0dd4e-727b-45d7-ac22-c6128145db87"
      },
      "execution_count": null,
      "outputs": [
        {
          "output_type": "stream",
          "name": "stdout",
          "text": [
            "  Customer    Month  Amount_Spent  Amount_Repaid            Due      Interest  \\\n",
            "0       A1  2004-01  1.511173e+06   1.362775e+06  148397.511160   4303.527824   \n",
            "1       A1  2004-02  4.138111e+04   1.911800e+05       0.000000      0.000000   \n",
            "2       A1  2004-05  1.311966e+05   0.000000e+00  131196.587818   3804.701047   \n",
            "3       A1  2005-01  3.984038e+05   1.581970e+03  396821.801983  11507.832258   \n",
            "4       A1  2005-02  1.404193e+06   1.199808e+06  204385.417375   5927.177104   \n",
            "\n",
            "   Sl No:  Age City Credit Card Product  Limit Company Segment  \n",
            "0     NaN  NaN  NaN                 NaN    NaN     NaN     NaN  \n",
            "1     NaN  NaN  NaN                 NaN    NaN     NaN     NaN  \n",
            "2     NaN  NaN  NaN                 NaN    NaN     NaN     NaN  \n",
            "3     NaN  NaN  NaN                 NaN    NaN     NaN     NaN  \n",
            "4     NaN  NaN  NaN                 NaN    NaN     NaN     NaN  \n"
          ]
        }
      ]
    },
    {
      "cell_type": "code",
      "source": [
        "segment_spend = df_final.groupby('Segment')['Amount_Spent'].sum().reset_index()\n",
        "print(segment_spend)\n"
      ],
      "metadata": {
        "colab": {
          "base_uri": "https://localhost:8080/"
        },
        "id": "is3HSSJHRk2Q",
        "outputId": "63c52ebb-b4c9-4755-bb5b-15e603ca373c"
      },
      "execution_count": null,
      "outputs": [
        {
          "output_type": "stream",
          "name": "stdout",
          "text": [
            "         Segment  Amount_Spent\n",
            "0           Govt  6.046714e+07\n",
            "1  Normal Salary  7.343411e+07\n",
            "2   Salaried_MNC  5.487624e+07\n",
            "3   Salaried_Pvt  4.865442e+07\n",
            "4  Self Employed  5.048681e+07\n"
          ]
        }
      ]
    },
    {
      "cell_type": "code",
      "source": [
        "bins = [18, 30, 45, 60, 100]\n",
        "labels = ['18-29', '30-44', '45-59', '60+']\n",
        "df_final['Age_Group'] = pd.cut(df_final['Age'], bins=bins, labels=labels)\n",
        "\n",
        "age_spend = df_final.groupby('Age_Group')['Amount_Spent'].sum().reset_index()\n",
        "print(age_spend)\n"
      ],
      "metadata": {
        "colab": {
          "base_uri": "https://localhost:8080/"
        },
        "id": "1Pg_OL06RoRQ",
        "outputId": "9b831a39-89a3-46e8-e9aa-46dd36132c7e"
      },
      "execution_count": null,
      "outputs": [
        {
          "output_type": "stream",
          "name": "stdout",
          "text": [
            "  Age_Group  Amount_Spent\n",
            "0     18-29  4.608874e+07\n",
            "1     30-44  4.448938e+07\n",
            "2     45-59  6.324542e+07\n",
            "3       60+  1.340952e+08\n"
          ]
        },
        {
          "output_type": "stream",
          "name": "stderr",
          "text": [
            "/tmp/ipython-input-21-1475748608.py:5: FutureWarning: The default of observed=False is deprecated and will be changed to True in a future version of pandas. Pass observed=False to retain current behavior or observed=True to adopt the future default and silence this warning.\n",
            "  age_spend = df_final.groupby('Age_Group')['Amount_Spent'].sum().reset_index()\n"
          ]
        }
      ]
    },
    {
      "cell_type": "code",
      "source": [
        "category_spend = df_spend.groupby('Type')['Amount'].sum().reset_index()\n",
        "category_spend.rename(columns={'Amount': 'Total_Spent'}, inplace=True)\n",
        "\n",
        "print(category_spend)\n"
      ],
      "metadata": {
        "colab": {
          "base_uri": "https://localhost:8080/"
        },
        "id": "Ky8PsUe2RrOM",
        "outputId": "ed4faf86-10f9-4c4d-8cca-b287e547d077"
      },
      "execution_count": null,
      "outputs": [
        {
          "output_type": "stream",
          "name": "stdout",
          "text": [
            "            Type   Total_Spent\n",
            "0     AIR TICKET  3.743547e+07\n",
            "1           AUTO  1.050509e+07\n",
            "2           BIKE  1.315264e+07\n",
            "3     BUS TICKET  2.490590e+07\n",
            "4         CAMERA  4.372101e+07\n",
            "5            CAR  7.018278e+06\n",
            "6        CLOTHES  2.479110e+07\n",
            "7           FOOD  3.829646e+07\n",
            "8      JEWELLERY  2.524795e+07\n",
            "9   MOVIE TICKET  1.878458e+07\n",
            "10         PETRO  5.102258e+07\n",
            "11        RENTAL  2.091467e+07\n",
            "12       SANDALS  6.325017e+06\n",
            "13      SHOPPING  2.741868e+07\n",
            "14  TRAIN TICKET  3.181262e+07\n"
          ]
        }
      ]
    },
    {
      "cell_type": "code",
      "source": [
        "import matplotlib.pyplot as plt\n",
        "\n",
        "top_customers.plot(kind='bar', x='Costomer', y='Amount_Spent', title='Top 10 Spending Customers')\n",
        "plt.ylabel('Amount Spent')\n",
        "plt.xlabel('Customer')\n",
        "plt.show()\n"
      ],
      "metadata": {
        "colab": {
          "base_uri": "https://localhost:8080/",
          "height": 485
        },
        "id": "AaFi81DuSgDa",
        "outputId": "75398818-2ad9-4017-8657-ecd6d516bdf6"
      },
      "execution_count": null,
      "outputs": [
        {
          "output_type": "display_data",
          "data": {
            "text/plain": [
              "<Figure size 640x480 with 1 Axes>"
            ],
            "image/png": "[encoded data removed]"
          },
          "metadata": {}
        }
      ]
    },
    {
      "cell_type": "code",
      "source": [
        "import matplotlib.pyplot as plt\n",
        "\n",
        "monthly_profit['Month'] = monthly_profit['Month'].astype(str)\n",
        "\n",
        "plt.figure(figsize=(10, 5))\n",
        "plt.plot(monthly_profit['Month'], monthly_profit['Monthly_Profit'], marker='o', color='green')\n",
        "plt.title(\"Monthly Bank Profit from Interest\")\n",
        "plt.xlabel(\"Month\")\n",
        "plt.ylabel(\"Profit (₹)\")\n",
        "plt.grid(True)\n",
        "plt.xticks(rotation=45)\n",
        "plt.tight_layout()\n",
        "plt.show()\n"
      ],
      "metadata": {
        "colab": {
          "base_uri": "https://localhost:8080/",
          "height": 507
        },
        "id": "KQFZ9IGlStm5",
        "outputId": "5368f3a7-d149-4d58-f062-d1061ef2041b"
      },
      "execution_count": null,
      "outputs": [
        {
          "output_type": "display_data",
          "data": {
            "text/plain": [
              "<Figure size 1000x500 with 1 Axes>"
            ],
            "image/png": "[encoded data removed]"
          },
          "metadata": {}
        }
      ]
    },
    {
      "cell_type": "code",
      "source": [
        "plt.figure(figsize=(8, 5))\n",
        "plt.bar(segment_spend['Segment'], segment_spend['Amount_Spent'], color='skyblue')\n",
        "plt.title(\"Total Spending by Customer Segment\")\n",
        "plt.xlabel(\"Segment\")\n",
        "plt.ylabel(\"Amount Spent (₹)\")\n",
        "plt.xticks(rotation=45)\n",
        "plt.tight_layout()\n",
        "plt.show()\n"
      ],
      "metadata": {
        "colab": {
          "base_uri": "https://localhost:8080/",
          "height": 507
        },
        "id": "TOMKlnW7SvYh",
        "outputId": "8c02bf12-897e-4efb-c0d4-98baacade3e4"
      },
      "execution_count": null,
      "outputs": [
        {
          "output_type": "display_data",
          "data": {
            "text/plain": [
              "<Figure size 800x500 with 1 Axes>"
            ],
            "image/png": "[encoded data removed]"
          },
          "metadata": {}
        }
      ]
    },
    {
      "cell_type": "code",
      "source": [
        "plt.figure(figsize=(7, 7))\n",
        "plt.pie(age_spend['Amount_Spent'], labels=age_spend['Age_Group'], autopct='%1.1f%%', startangle=90)\n",
        "plt.title(\"Spending by Age Group\")\n",
        "plt.axis('equal')\n",
        "plt.show()\n"
      ],
      "metadata": {
        "colab": {
          "base_uri": "https://localhost:8080/",
          "height": 598
        },
        "id": "_ZtHisj7S4X-",
        "outputId": "585ca16a-ca13-40b4-9565-7afa8064ff02"
      },
      "execution_count": null,
      "outputs": [
        {
          "output_type": "display_data",
          "data": {
            "text/plain": [
              "<Figure size 700x700 with 1 Axes>"
            ],
            "image/png": "[encoded data removed]"
          },
          "metadata": {}
        }
      ]
    }
  ]
}